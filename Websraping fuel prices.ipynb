{
 "cells": [
  {
   "cell_type": "code",
   "execution_count": null,
   "id": "47a40238",
   "metadata": {},
   "outputs": [],
   "source": [
    "import requests\n",
    "from bs4 import BeautifulSoup\n",
    "from IPython.display import HTML, display\n",
    "\n",
    "# first URL\n",
    "url1 = \"https://www.neste.lv/lv/content/degvielas-cenas\"\n",
    "response1 = requests.get(url1)\n",
    "soup1 = BeautifulSoup(response1.text, 'html.parser')\n",
    "\n",
    "# find the <span> element with \"Neste Futura D\"\n",
    "product_span = soup1.find('span', text='Neste Futura D')\n",
    "\n",
    "# extract the price value from the next <span> element\n",
    "price_span = product_span.find_next_sibling('span')\n",
    "price_value = price_span.find('strong').text if price_span else \"N/A\"\n",
    "\n",
    "# extract the text from the product <span> element\n",
    "product_name = product_span.text if product_span else \"N/A\"\n",
    "\n",
    "# second URL\n",
    "url2 = \"https://www.virsi.lv/lv/privatpersonam/degviela/degvielas-un-elektrouzlades-cenas\"\n",
    "response2 = requests.get(url2)\n",
    "soup2 = BeautifulSoup(response2.text, 'html.parser')\n",
    "\n",
    "# find all <p> elements with class=\"price\"\n",
    "prices = soup2.find_all('p', class_='price')\n",
    "\n",
    "# loop through each <p> element and extract the text from the <span> elements\n",
    "prices_text = []\n",
    "for price in prices:\n",
    "    spans = price.find_all('span')\n",
    "    dd = spans[0].text\n",
    "    price_value = spans[1].text\n",
    "    prices_text.append(f\"{dd} - {price_value}\")\n",
    "\n",
    "# display the results on one page\n",
    "display(HTML(f\"<h1>{product_name} - {price_value}</h1><ul>{''.join([f'<li>{price}</li>' for price in prices_text])}</ul>\"))"
   ]
  },
  {
   "cell_type": "code",
   "execution_count": null,
   "id": "34ae0a13",
   "metadata": {},
   "outputs": [],
   "source": [
    "import requests\n",
    "from bs4 import BeautifulSoup\n",
    "\n",
    "url = \"https://www.virsi.lv/lv/privatpersonam/degviela/degvielas-un-elektrouzlades-cenas\"\n",
    "response = requests.get(url)\n",
    "soup = BeautifulSoup(response.text, 'html.parser')\n",
    "\n",
    "# find all <p> elements with class=\"price\"\n",
    "prices = soup.find_all('p', class_='price')\n",
    "\n",
    "# loop through each <p> element and extract the text from the <span> elements\n",
    "for price in prices:\n",
    "    spans = price.find_all('span')\n",
    "    dd = spans[0].text\n",
    "    price_value = spans[1].text\n",
    "    print(f\"{dd} - {price_value}\")"
   ]
  },
  {
   "cell_type": "code",
   "execution_count": null,
   "id": "faed1995",
   "metadata": {},
   "outputs": [],
   "source": [
    "import requests\n",
    "from bs4 import BeautifulSoup\n",
    "\n",
    "url = \"https://www.neste.lv/lv/content/degvielas-cenas\"\n",
    "response = requests.get(url)\n",
    "soup = BeautifulSoup(response.text, 'html.parser')\n",
    "\n",
    "# find the table containing the fuel prices\n",
    "table = soup.find('table', attrs={'class': 'priceTable'})\n",
    "rows = table.find_all('tr')\n",
    "\n",
    "# find the row with \"Neste Futura D\" fuel price\n",
    "for row in rows:\n",
    "    columns = row.find_all('td')\n",
    "    if columns:\n",
    "        fuel_type = columns[0].text.strip()\n",
    "        if fuel_type == 'Neste Futura D':\n",
    "            price = columns[1].text.strip()\n",
    "            print(fuel_type + \" price: \" + price)\n",
    "            break"
   ]
  }
 ],
 "metadata": {
  "kernelspec": {
   "display_name": "Python 3 (ipykernel)",
   "language": "python",
   "name": "python3"
  },
  "language_info": {
   "codemirror_mode": {
    "name": "ipython",
    "version": 3
   },
   "file_extension": ".py",
   "mimetype": "text/x-python",
   "name": "python",
   "nbconvert_exporter": "python",
   "pygments_lexer": "ipython3",
   "version": "3.9.13"
  }
 },
 "nbformat": 4,
 "nbformat_minor": 5
}
